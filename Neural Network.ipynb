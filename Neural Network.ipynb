{
 "cells": [
  {
   "cell_type": "markdown",
   "metadata": {},
   "source": [
    "# Neural Network\n",
    "Artificial neural network (ANN) is a machine learning application that uses the concepts of human brain to build computer programs that can learn and perform tasks efficiently. Neural networks have been implemented successfuly for many applications such as text classification, speech recognition, and prediction. \n",
    "\n",
    "This post shows the steps to implement a nerual network model with one hidden layer and a sigmoid activation and loss function. Data is split into training, validation, and test sets. The same is then implemented using sklearn's MLPClassifier. Both systems gave similar results. "
   ]
  },
  {
   "cell_type": "markdown",
   "metadata": {},
   "source": [
    "## Load Libraries"
   ]
  },
  {
   "cell_type": "code",
   "execution_count": 66,
   "metadata": {},
   "outputs": [],
   "source": [
    "import numpy as np\n",
    "import pandas as pd\n",
    "import matplotlib.pyplot as plt\n",
    "from matplotlib.pyplot import figure\n",
    "import os\n",
    "import csv\n",
    "from mpl_toolkits import mplot3d\n",
    "from scipy.special import expit\n",
    "from classifiers.nn_classifier import NeuralNet"
   ]
  },
  {
   "cell_type": "code",
   "execution_count": 67,
   "metadata": {},
   "outputs": [],
   "source": [
    "def load_data(filename, rows=10):\n",
    "    \"\"\"\n",
    "    Reads csv file and loads specified columns\n",
    "\n",
    "    Arguments:\n",
    "        filename -- full path with filename\n",
    "        rows -- number of rows to load\n",
    "    Returns:\n",
    "        dataframe\n",
    "    \"\"\"\n",
    "\n",
    "    df = pd.read_csv(filename, usecols=[\"Temperature (C)\", \"Humidity\", \"Wind Speed (km/h)\"], \n",
    "                       na_values=[\"nan\"], nrows=rows)\n",
    "    return df\n",
    "\n",
    "def prepare_data(df, x_col, y_col):\n",
    "    \"\"\"\n",
    "    prepare x and y values\n",
    "\n",
    "    Arguments:\n",
    "        df -- pandas dataframe\n",
    "        x_col -- name of x column(s)\n",
    "        y_col -- name of y column\n",
    "    Returns:\n",
    "        x_data -- dataframe for x values\n",
    "        y_data -- dataframe for y values\n",
    "    \"\"\"\n",
    "    # Dependent variable: humidity\n",
    "    y_data = df.loc[:, y_col]\n",
    "    \n",
    "    # Independent variable: Temperature\n",
    "    x_data = df.loc[:, x_col]\n",
    "\n",
    "    # normalize data\n",
    "    x_data = normalize(x_data)\n",
    "\n",
    "    # Change y into categories for logistic regression\n",
    "    # Using 0.7 arbitrarily to divide the variable into two groups humid (1) and non-humid (0)\n",
    "    y_data = pd.Series(np.where(y_data.values > 0.7, 1, 0))\n",
    "    \n",
    "    return x_data, y_data\n",
    "\n",
    "def plot_data(df, title=\"Weather Data\", xlabel=\"x values\", ylabel=\"y values\"):\n",
    "    ax = df.plot(title=title, fontsize=12)\n",
    "    ax.set_xlabel(xlabel)\n",
    "    ax.set_ylabel(ylabel)\n",
    "    plt.show()\n",
    "\n",
    "def normalize(X):\n",
    "    '''normalize each column of the matrix X'''\n",
    "    X_mean = X.mean(axis=0)\n",
    "    X_std = X.std(axis=0)\n",
    "    return (X - X_mean) / X_std\n",
    "\n"
   ]
  },
  {
   "cell_type": "markdown",
   "metadata": {},
   "source": [
    "## Step 1: Load data"
   ]
  },
  {
   "cell_type": "code",
   "execution_count": 68,
   "metadata": {
    "scrolled": true
   },
   "outputs": [
    {
     "name": "stdout",
     "output_type": "stream",
     "text": [
      "(96453, 3)\n",
      "   Temperature (C)  Humidity  Wind Speed (km/h)\n",
      "0         9.472222      0.89            14.1197\n",
      "1         9.355556      0.86            14.2646\n",
      "2         9.377778      0.89             3.9284\n",
      "3         8.288889      0.83            14.1036\n",
      "4         8.755556      0.83            11.0446\n"
     ]
    }
   ],
   "source": [
    "# load data. The load_data function returns a pandas dataframe object.\n",
    "df_data = load_data(\"./data/weatherHistory.csv\", rows=100000)\n",
    "df_data.dropna()\n",
    "\n",
    "print(df_data.shape)\n",
    "print(df_data.head())"
   ]
  },
  {
   "cell_type": "markdown",
   "metadata": {},
   "source": [
    "## Step 2: Prepare data"
   ]
  },
  {
   "cell_type": "code",
   "execution_count": 69,
   "metadata": {},
   "outputs": [
    {
     "name": "stdout",
     "output_type": "stream",
     "text": [
      "x.shape: (96453, 2)\n",
      "y.shape: (96453, 1)\n",
      "Train data shape:  (57871, 2)\n",
      "Train labels shape:  (57871, 1)\n",
      "Validation data shape:  (19291, 2)\n",
      "Validation labels shape:  (19291, 1)\n",
      "Test data shape:  (19291, 2)\n",
      "Test labels shape:  (19291, 1)\n"
     ]
    }
   ],
   "source": [
    "# prepare x and y data\n",
    "x, y = prepare_data(df_data, [\"Temperature (C)\", \"Wind Speed (km/h)\"], \"Humidity\")\n",
    "\n",
    "# change dimensions\n",
    "y = np.array(y)\n",
    "y = y.reshape(-1, 1)\n",
    "print('x.shape:', x.shape)\n",
    "print('y.shape:', y.shape)\n",
    "\n",
    "# split data into train, validation, and test sets\n",
    "X_train, X_val, X_test = np.split(x, [int(.6 * len(x)), int(.8 * len(x))])\n",
    "\n",
    "y_train, y_val, y_test = np.split(y, [int(.6 * len(y)), int(.8 * len(y))])\n",
    "\n",
    "print('Train data shape: ', X_train.shape)\n",
    "print('Train labels shape: ', y_train.shape)\n",
    "print('Validation data shape: ', X_val.shape)\n",
    "print('Validation labels shape: ', y_val.shape)\n",
    "print('Test data shape: ', X_test.shape)\n",
    "print('Test labels shape: ', y_test.shape)"
   ]
  },
  {
   "cell_type": "markdown",
   "metadata": {},
   "source": [
    "## Step 3: Build and train neural network model"
   ]
  },
  {
   "cell_type": "code",
   "execution_count": 70,
   "metadata": {},
   "outputs": [
    {
     "name": "stdout",
     "output_type": "stream",
     "text": [
      "iteration 0 / 1000: loss 0.683995\n",
      "iteration 100 / 1000: loss 0.520451\n",
      "iteration 200 / 1000: loss 0.519848\n",
      "iteration 300 / 1000: loss 0.520042\n",
      "iteration 400 / 1000: loss 0.520254\n",
      "iteration 500 / 1000: loss 0.520411\n",
      "iteration 600 / 1000: loss 0.520514\n",
      "iteration 700 / 1000: loss 0.520572\n",
      "iteration 800 / 1000: loss 0.520601\n",
      "iteration 900 / 1000: loss 0.520617\n",
      "Final training loss:  0.5206340726338214\n",
      "Training Accuracy:  0.7951478287916227\n",
      "Validation accuracy:  0.7938416878337048\n",
      "\n",
      "Weights:\n",
      "W1's shape is (# of features + a bias unit, # of nodes in the hidden layer)\n",
      "W1 shape: (3, 2)\n",
      "W2's shape is (# of nodes in the hidden layer + a bias unit, # of nodes in the output layer)\n",
      "W2 shape: (3, 1)\n",
      "{'W1': array([[-4.71597677e-03, -1.21668044e-03],\n",
      "       [-3.90957419e+00, -3.68638567e+00],\n",
      "       [-2.21083915e+00, -9.06306308e-01]]), 'W2': array([[-0.21446755],\n",
      "       [ 1.7431176 ],\n",
      "       [ 0.63936506]])}\n"
     ]
    }
   ],
   "source": [
    "from classifiers.nn_classifier import NeuralNet\n",
    "\n",
    "# 2 nodes in layer1 (input layer), 2 nodes in layer 2, 1 node in layer 3 (output)\n",
    "# theta: (d, 2) matrix\n",
    "\n",
    "# number of features\n",
    "input_size = 2 \n",
    "# number of nodes in the hidden layer\n",
    "hidden_size = 2 \n",
    "# number of clsses in output layer. Since only two categories are there, only one binary class is required.\n",
    "num_classes = 1\n",
    "# regularization rate\n",
    "reg_rate = 0.0001\n",
    "\n",
    "# set seed to get the same result everytime we run the model\n",
    "np.random.seed(0) \n",
    "\n",
    "# initialize neural network classifier class\n",
    "nn = NeuralNet(input_size, hidden_size, num_classes, std=1e-1)\n",
    "\n",
    "# train the model\n",
    "stats = nn.train(X_train, y_train, X_val, y_val,\n",
    "            learning_rate=0.00005, learning_rate_decay=1, reg=reg_rate,\n",
    "            num_iters=1000, verbose=True)\n",
    "\n",
    "print('Final training loss: ', stats['loss_history'][-1])\n",
    "print('Training Accuracy: ', stats['train_acc_history'][-1])\n",
    "print('Validation accuracy: ', stats['val_acc_history'][-1])\n",
    "print()\n",
    "print(\"Weights:\")\n",
    "print('W1\\'s shape is (# of features + a bias unit, # of nodes in the hidden layer)')\n",
    "print('W1 shape:', nn.params['W1'].shape)\n",
    "print('W2\\'s shape is (# of nodes in the hidden layer + a bias unit, # of nodes in the output layer)')\n",
    "print('W2 shape:', nn.params['W2'].shape)\n",
    "print(nn.params)"
   ]
  },
  {
   "cell_type": "code",
   "execution_count": 71,
   "metadata": {},
   "outputs": [
    {
     "data": {
      "image/png": "[encoded data removed]",
      "text/plain": [
       "<Figure size 432x288 with 1 Axes>"
      ]
     },
     "metadata": {
      "needs_background": "light"
     },
     "output_type": "display_data"
    },
    {
     "data": {
      "image/png": "[encoded data removed]",
      "text/plain": [
       "<Figure size 432x288 with 1 Axes>"
      ]
     },
     "metadata": {
      "needs_background": "light"
     },
     "output_type": "display_data"
    },
    {
     "data": {
      "image/png": "[encoded data removed]",
      "text/plain": [
       "<Figure size 432x288 with 1 Axes>"
      ]
     },
     "metadata": {
      "needs_background": "light"
     },
     "output_type": "display_data"
    }
   ],
   "source": [
    "# plot loss history\n",
    "plt.plot(stats['loss_history'])\n",
    "plt.xlabel('iteration')\n",
    "plt.ylabel('training loss')\n",
    "plt.title('Training Loss')\n",
    "plt.show()\n",
    "\n",
    "# plot accuracy history\n",
    "plt.plot(stats['train_acc_history'])\n",
    "plt.xlabel('iteration')\n",
    "plt.ylabel('training accuracy')\n",
    "plt.title('Training Accuracy')\n",
    "plt.show()\n",
    "\n",
    "# plot validation accuracy history\n",
    "plt.plot(stats['val_acc_history'])\n",
    "plt.xlabel('iteration')\n",
    "plt.ylabel('validation accuracy')\n",
    "plt.title('Validation Accuracy')\n",
    "plt.show()\n"
   ]
  },
  {
   "cell_type": "markdown",
   "metadata": {},
   "source": [
    "## Step 3: Run the model on test data"
   ]
  },
  {
   "cell_type": "code",
   "execution_count": 72,
   "metadata": {},
   "outputs": [
    {
     "name": "stdout",
     "output_type": "stream",
     "text": [
      "Test loss:  0.4985116454326679\n",
      "Test accuracy:  0.8060235342906018\n"
     ]
    }
   ],
   "source": [
    "# Predict on the test set\n",
    "test_metrics = nn.test(X_test, y_test, reg=reg_rate)\n",
    "test_loss = test_metrics['cost']\n",
    "test_acc = test_metrics['accuracy']\n",
    "print('Test loss: ', test_loss)\n",
    "print('Test accuracy: ', test_acc)"
   ]
  },
  {
   "cell_type": "markdown",
   "metadata": {},
   "source": [
    "# Implement neural network model using sklearn\n",
    "\n",
    "## Prepare data"
   ]
  },
  {
   "cell_type": "code",
   "execution_count": 73,
   "metadata": {},
   "outputs": [
    {
     "name": "stdout",
     "output_type": "stream",
     "text": [
      "Train data shape:  (77162, 2)\n",
      "Train labels shape:  (77162, 1)\n",
      "Test data shape:  (19291, 2)\n",
      "Test labels shape:  (19291, 1)\n"
     ]
    }
   ],
   "source": [
    "# prepare x and y data\n",
    "x, y = prepare_data(df_data, [\"Temperature (C)\", \"Wind Speed (km/h)\"], \"Humidity\")\n",
    "\n",
    "# change dimensions\n",
    "y = np.array(y)\n",
    "y = y.reshape(-1, 1)\n",
    "\n",
    "# split data into train, and test sets\n",
    "X_train, X_test = np.split(x, [int(.8 * len(x))])\n",
    "\n",
    "y_train, y_test = np.split(y, [int(.8 * len(y))])\n",
    "\n",
    "print('Train data shape: ', X_train.shape)\n",
    "print('Train labels shape: ', y_train.shape)\n",
    "print('Test data shape: ', X_test.shape)\n",
    "print('Test labels shape: ', y_test.shape)"
   ]
  },
  {
   "cell_type": "markdown",
   "metadata": {},
   "source": [
    "## Fit model on training data"
   ]
  },
  {
   "cell_type": "code",
   "execution_count": 74,
   "metadata": {},
   "outputs": [
    {
     "name": "stdout",
     "output_type": "stream",
     "text": [
      "Loss: 0.4599085620011401\n",
      "Accuracy: 0.7940048210258935\n",
      "[array([-0.65989561,  0.52557614]), array([0.51413112])]\n",
      "[array([[ 1.79457837, -1.56390586],\n",
      "       [ 0.67713621, -0.51746256]]), array([[-2.71187944],\n",
      "       [ 2.15163951]])]\n"
     ]
    }
   ],
   "source": [
    "# implement using sklearn MLPClassifier\n",
    "\n",
    "from sklearn.neural_network import MLPClassifier\n",
    "from sklearn.metrics import classification_report, confusion_matrix\n",
    "\n",
    "y_train = y_train.ravel()\n",
    "model = MLPClassifier(hidden_layer_sizes=(2), activation='logistic', alpha=0.1, \n",
    "                      solver='sgd', batch_size=1000, max_iter=1000, random_state=0)\n",
    "model.fit(X_train, y_train)\n",
    "\n",
    "print(\"Loss: {}\".format(model.loss_))\n",
    "print(\"Accuracy: {}\".format(model.score(X_train, y_train)))\n",
    "print(model.intercepts_)\n",
    "print(model.coefs_)"
   ]
  },
  {
   "cell_type": "markdown",
   "metadata": {},
   "source": [
    "## Predict on test data"
   ]
  },
  {
   "cell_type": "code",
   "execution_count": 75,
   "metadata": {},
   "outputs": [
    {
     "data": {
      "text/plain": [
       "0.7912498056088332"
      ]
     },
     "execution_count": 75,
     "metadata": {},
     "output_type": "execute_result"
    }
   ],
   "source": [
    "predictions = model.predict(X_test)\n",
    "model.score(X_test, y_test)"
   ]
  },
  {
   "cell_type": "markdown",
   "metadata": {},
   "source": [
    "Though the neural network implementation using sklearn's MLPClassifier has some differences compared to our implementation here, the results are very similar. \n",
    "\n",
    "On traiing data, we had an accuracy of 0.7951478287916227 compared to sklearn's accuracy of 0.7940048210258935.\n",
    "\n",
    "On test data, we had an accuracy of 0.8060235342906018 compared to sklearn's accuracy of 0.7912498056088332."
   ]
  }
 ],
 "metadata": {
  "kernelspec": {
   "display_name": "Python 3",
   "language": "python",
   "name": "python3"
  },
  "language_info": {
   "codemirror_mode": {
    "name": "ipython",
    "version": 3
   },
   "file_extension": ".py",
   "mimetype": "text/x-python",
   "name": "python",
   "nbconvert_exporter": "python",
   "pygments_lexer": "ipython3",
   "version": "3.6.10"
  }
 },
 "nbformat": 4,
 "nbformat_minor": 4
}
