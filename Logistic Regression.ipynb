{
 "cells": [
  {
   "cell_type": "markdown",
   "metadata": {},
   "source": [
    "# Logistic Regression\n",
    "Logistic regression is a statistical classification model used to conduct regression analysis between a binary dependent variable and one or more independent variables. It uses a logistic function to determine the probability of the response (dependent) variable belonging to a certain category. This post uses machine learning to implement logistic regression.\n",
    "\n",
    "Using weather data, this post first presents a logistic regression between temperature (predictor) and humidity (response). It then presents a logistic regression model using multiple independent variables, temperature and wind speed. The results are then compared with the results from the same model by using sklearn library. The objective of this post is to show the calculations involved in using machine learning to build a logistic regression model. \n",
    "\n",
    "If you would like to learn more on machine learning, I will recommend a course on <a href=\"https://www.coursera.org/learn/machine-learning\">machine learning</a> by Andrew Ng on Coursera."
   ]
  },
  {
   "cell_type": "markdown",
   "metadata": {},
   "source": [
    "## Load Libraries"
   ]
  },
  {
   "cell_type": "code",
   "execution_count": 1,
   "metadata": {},
   "outputs": [],
   "source": [
    "import numpy as np\n",
    "import pandas as pd\n",
    "import matplotlib.pyplot as plt\n",
    "from matplotlib.pyplot import figure\n",
    "import os\n",
    "import csv\n",
    "from sklearn.linear_model import LinearRegression\n",
    "from mpl_toolkits import mplot3d\n",
    "from scipy.special import expit"
   ]
  },
  {
   "cell_type": "markdown",
   "metadata": {},
   "source": [
    "## Define all required functions"
   ]
  },
  {
   "cell_type": "code",
   "execution_count": 162,
   "metadata": {},
   "outputs": [],
   "source": [
    "def load_data(filename, rows=10):\n",
    "    \"\"\"\n",
    "    Reads csv file and loads specified columns\n",
    "\n",
    "    Arguments:\n",
    "        filename -- full path with filename\n",
    "        rows -- number of rows to load\n",
    "    Returns:\n",
    "        dataframe\n",
    "    \"\"\"\n",
    "\n",
    "    df = pd.read_csv(filename, usecols=[\"Temperature (C)\", \"Humidity\", \"Wind Speed (km/h)\"], \n",
    "                       na_values=[\"nan\"], nrows=rows)\n",
    "    return df\n",
    "\n",
    "\n",
    "def normalize(data):\n",
    "    \"\"\"\n",
    "    Normalizes each column of the data matrix using mean and standard deviation.\n",
    "\n",
    "    Arguments:\n",
    "        data -- matrix of data to be normalized\n",
    "    Returns:\n",
    "        normalized data matrix\n",
    "    \"\"\"\n",
    "    data_mean = data.mean(axis=0)\n",
    "    data_std = data.std(axis=0)\n",
    "    return (data -  data_mean) / data_std\n",
    "\n",
    "def prepare_data(df, x_col, y_col):\n",
    "    \"\"\"\n",
    "    prepare x and y values\n",
    "\n",
    "    Arguments:\n",
    "        df -- pandas dataframe\n",
    "        x_col -- name of x column(s)\n",
    "        y_col -- name of y column\n",
    "    Returns:\n",
    "        x_data -- dataframe for x values\n",
    "        y_data -- dataframe for y values\n",
    "    \"\"\"\n",
    "    # Dependent variable: humidity\n",
    "#     y_temp = df.loc[:, y_col]\n",
    "    y = df.loc[:, y_col]\n",
    "    \n",
    "    # Independent variable: Temperature\n",
    "    x = df.loc[:, x_col]\n",
    "\n",
    "    # Normalize data\n",
    "    x_data = normalize(x)\n",
    "\n",
    "    # Change y into categories for logistic regression\n",
    "    # Using 0.7 arbitrarily to divide the variable into two groups humid (1) and non-humid (0)\n",
    "    y_data = pd.Series(np.where(y.values > 0.7, 1, 0))\n",
    "\n",
    "    return x_data, y_data\n",
    "\n",
    "def hx(x, theta):\n",
    "    \"\"\"\n",
    "    Calculates sigmoid of X and theta\n",
    "\n",
    "    Arguments:\n",
    "        x -- input matrix\n",
    "        theta -- vector of regression parameters\n",
    "    Returns:\n",
    "        sigmoid vector\n",
    "    \"\"\"\n",
    "    return sigmoid(np.dot(x, theta))\n",
    "\n",
    "def sigmoid(x):\n",
    "    \"\"\"\n",
    "    Calculates sigmoid of X\n",
    "\n",
    "    Arguments:\n",
    "        x -- matrix of input values\n",
    "    Returns:\n",
    "        sigmoid vector\n",
    "    \"\"\"\n",
    "    return 1 / (1 + np.exp(-x))\n",
    "    \n",
    "def loss(theta0, theta1, x, y):\n",
    "    \"\"\"\n",
    "    Calculates loss\n",
    "\n",
    "    Arguments:\n",
    "        theta0 -- first parameter of logistic function\n",
    "        theta1 -- second parameter of logistic function\n",
    "        x -- input matrix\n",
    "        y -- labels\n",
    "    Returns:\n",
    "        loss value\n",
    "    \"\"\"\n",
    "    n = x.shape[0]\n",
    "    total_loss = 0\n",
    "    for i in range(n):\n",
    "        z = sigmoid(theta0 + theta1*x[i])\n",
    "        part1 = y[i] * np.log(z)\n",
    "        part2 = (1 - y[i]) * np.log(1 - z)\n",
    "        total_loss += part1 + part2\n",
    "\n",
    "    return -total_loss/n\n",
    "\n",
    "def loss_vector(theta, x, y, regrate):\n",
    "    \"\"\"\n",
    "    Vectorize the loss calculation and also implementing regularization\n",
    "\n",
    "    Arguments:\n",
    "        theta -- vector of regression parameters; dimension (d,1)\n",
    "        x -- input matrix; dimenstion (n, d)\n",
    "        y -- labels\n",
    "\n",
    "    Returns:\n",
    "        sigmoid vector; dimension (n, 1)\n",
    "    \"\"\"    \n",
    "    m = y.size\n",
    "    h = hx(x, theta)\n",
    "    return -((1/m)*(np.dot(y.T, np.log(h)) + np.dot((1-y).T, np.log(1-h))) + \n",
    "        (regrate/(2*m))*(np.dot(theta.T, theta)))\n",
    "\n",
    "\n",
    "def run_model(x, y, num_iter = 1000):\n",
    "    \"\"\"\n",
    "    Run logistic regression. Use gradient descent to find model parameters.\n",
    "\n",
    "    Arguments:\n",
    "        x -- input matrix\n",
    "        y -- labels\n",
    "        num_iter -- number of times to iterate to find model parameters\n",
    "    Returns:\n",
    "        theta0 -- first model parameter\n",
    "        theta1 -- second model parameter\n",
    "        loss -- list of loss values\n",
    "    \"\"\"\n",
    "    theta0 = 0\n",
    "    theta1 = 0\n",
    "    alpha = 0.000025\n",
    "    x = np.array(x)\n",
    "    y = np.array(y)\n",
    "    \n",
    "    loss_val = loss(theta0, theta1, x, y)\n",
    "    n = x.shape[0]\n",
    "    costs = []\n",
    "    \n",
    "    for k in range(num_iter):\n",
    "        temp0 = 0\n",
    "        temp1 = 0\n",
    "        theta0_prev = theta0\n",
    "        theta1_prev = theta1\n",
    "\n",
    "        for i in range(n):\n",
    "            value = (sigmoid(theta0 + theta1 * x[i]) - y[i])\n",
    "            temp0 += value\n",
    "            temp1 += value * x[i]\n",
    "\n",
    "        theta0 -= alpha * temp0\n",
    "        theta1 -= alpha * temp1\n",
    "        loss_new = loss(theta0, theta1, x, y)\n",
    "        costs.append(loss_new)\n",
    "        \n",
    "        if k % 100 == 0:\n",
    "            print (k, theta0, theta1, loss_new)\n",
    "        \n",
    "        loss_val = loss_new\n",
    "\n",
    "    # print value from last iteration\n",
    "    print (k, theta0, theta1, loss_new)\n",
    "    \n",
    "    return theta0, theta1, costs\n",
    "\n",
    "def run_multi_model(x, y, num_iter = 1000, regrate = 0):\n",
    "    \"\"\"\n",
    "    Run logistic regression. Use gradient descent to find model parameters.\n",
    "\n",
    "    Arguments:\n",
    "        x -- input matrix; dimension (n, d)\n",
    "        y -- labels; dimension (n, 1)\n",
    "        num_iter -- number of times to iterate to find model parameters\n",
    "        regrate -- regularization rate\n",
    "    Returns:\n",
    "        theta -- model parameter; dimension (d, 1)\n",
    "        loss -- list of loss values\n",
    "    \"\"\"    \n",
    "    # initialize theta with zeros\n",
    "    theta = np.zeros((x.shape[1], 1))\n",
    "\n",
    "    alpha = 0.025\n",
    "    loss_val = 0\n",
    "    m = y.shape[0]\n",
    "    costs = []\n",
    "\n",
    "    for k in range(num_iter):\n",
    "        theta_prev = theta\n",
    "\n",
    "        # calculate loss\n",
    "        # using .item() to get the value from arrays to plot later \n",
    "        loss_new = loss_vector(theta, x, y, regrate).item()\n",
    "        costs.append(loss_new)\n",
    "        loss_val = loss_new\n",
    "        \n",
    "        # calc gradient descent\n",
    "        theta = theta - alpha * ((1/m) * np.dot(x.T, (hx(x, theta) - y)) + (regrate / m) * theta)\n",
    "\n",
    "        if k % 100 == 0:\n",
    "            print(k, np.ravel(theta), loss_val)\n",
    "            \n",
    "    # print value from last iteration\n",
    "    print(k, np.ravel(theta), loss_val)\n",
    "    \n",
    "    return theta, costs"
   ]
  },
  {
   "cell_type": "markdown",
   "metadata": {},
   "source": [
    "# Step 1: Load data"
   ]
  },
  {
   "cell_type": "code",
   "execution_count": 134,
   "metadata": {
    "scrolled": true
   },
   "outputs": [
    {
     "name": "stdout",
     "output_type": "stream",
     "text": [
      "(96453, 3)\n",
      "   Temperature (C)  Humidity  Wind Speed (km/h)\n",
      "0         9.472222      0.89            14.1197\n",
      "1         9.355556      0.86            14.2646\n",
      "2         9.377778      0.89             3.9284\n",
      "3         8.288889      0.83            14.1036\n",
      "4         8.755556      0.83            11.0446\n"
     ]
    }
   ],
   "source": [
    "# load data. The load_data function returns a pandas dataframe object.\n",
    "df_data = load_data(\"./data/weatherHistory.csv\", rows=1000000)\n",
    "df_data.dropna()\n",
    "\n",
    "print(df_data.shape)\n",
    "print(df_data.head())"
   ]
  },
  {
   "cell_type": "markdown",
   "metadata": {},
   "source": [
    "# Step 2: Prepare data"
   ]
  },
  {
   "cell_type": "code",
   "execution_count": 159,
   "metadata": {},
   "outputs": [
    {
     "name": "stdout",
     "output_type": "stream",
     "text": [
      "x:  (96453,)\n",
      "y:  (96453,)\n"
     ]
    }
   ],
   "source": [
    "x, y = prepare_data(df_data, \"Temperature (C)\", \"Humidity\")\n",
    "print(\"x: \", x.shape)\n",
    "print(\"y: \", y.shape)"
   ]
  },
  {
   "cell_type": "markdown",
   "metadata": {},
   "source": [
    "# Step 3: Run model\n",
    "Parameters theta0 and theta1 for logistic regression is determined using gradient descent."
   ]
  },
  {
   "cell_type": "code",
   "execution_count": 163,
   "metadata": {},
   "outputs": [
    {
     "name": "stdout",
     "output_type": "stream",
     "text": [
      "0 0.31646250000000004 -0.6381478326898985 0.54322698395065\n",
      "99 0.7742304680557368 -1.5465095040059285 0.48508546186167434\n",
      "\n",
      "Theta0: 0.7742304680557368\n",
      "Theta1: -1.5465095040059285\n",
      "Loss: 0.48508546186167434\n"
     ]
    }
   ],
   "source": [
    "theta0, theta1, costs = run_model(x, y, num_iter = 100)\n",
    "print()\n",
    "print(\"Theta0: {}\".format(str(theta0)))\n",
    "print(\"Theta1: {}\".format(str(theta1)))\n",
    "print(\"Loss: {}\".format(str(costs[-1])))"
   ]
  },
  {
   "cell_type": "code",
   "execution_count": 164,
   "metadata": {},
   "outputs": [
    {
     "data": {
      "image/png": "[encoded data removed]",
      "text/plain": [
       "<Figure size 576x432 with 1 Axes>"
      ]
     },
     "metadata": {
      "needs_background": "light"
     },
     "output_type": "display_data"
    }
   ],
   "source": [
    "# plot cost \n",
    "fig_size = plt.rcParams[\"figure.figsize\"]\n",
    "fig_size[0] = 8\n",
    "fig_size[1] = 6\n",
    "plt.rcParams[\"figure.figsize\"] = fig_size\n",
    "plt.show()\n",
    "plt.plot(costs)\n",
    "plt.ylabel('cost')\n",
    "plt.xlabel('iterations')\n",
    "plt.show()"
   ]
  },
  {
   "cell_type": "markdown",
   "metadata": {},
   "source": [
    "From the above plot, we can see that the model converges after a few iterations."
   ]
  },
  {
   "cell_type": "code",
   "execution_count": 165,
   "metadata": {},
   "outputs": [
    {
     "data": {
      "text/plain": [
       "[<matplotlib.lines.Line2D at 0x28bfd97cf98>]"
      ]
     },
     "execution_count": 165,
     "metadata": {},
     "output_type": "execute_result"
    },
    {
     "data": {
      "image/png": "[encoded data removed]",
      "text/plain": [
       "<Figure size 576x432 with 1 Axes>"
      ]
     },
     "metadata": {
      "needs_background": "light"
     },
     "output_type": "display_data"
    }
   ],
   "source": [
    "# plot sigmoid function\n",
    "plt.figure(1, figsize=(8, 6))\n",
    "plt.clf()\n",
    "plt.scatter(x.ravel(), y, color='black', zorder=20)\n",
    "X_test = np.linspace(np.min(x), np.max(x), 300)\n",
    "\n",
    "loss_values = expit(theta0 + X_test * theta1).ravel()\n",
    "\n",
    "plt.plot(X_test, loss_values, color='red', linewidth=3)\n"
   ]
  },
  {
   "cell_type": "markdown",
   "metadata": {},
   "source": [
    "# Logistic regression using sklearn"
   ]
  },
  {
   "cell_type": "code",
   "execution_count": 138,
   "metadata": {},
   "outputs": [
    {
     "name": "stdout",
     "output_type": "stream",
     "text": [
      "[0.77418653] [[-1.54633619]]\n",
      "loss:  [[0.48508546]]\n"
     ]
    },
    {
     "data": {
      "image/png": "[encoded data removed]",
      "text/plain": [
       "<Figure size 576x432 with 1 Axes>"
      ]
     },
     "metadata": {
      "needs_background": "light"
     },
     "output_type": "display_data"
    }
   ],
   "source": [
    "from sklearn.linear_model import LogisticRegression\n",
    "\n",
    "x, y = prepare_data(df_data, \"Temperature (C)\", \"Humidity\")\n",
    "\n",
    "x1 = np.array(x)\n",
    "y1 = np.array(y)\n",
    "x1 = x1.reshape(-1, 1)\n",
    "y1 = y1.reshape(-1, 1)\n",
    "y1 = np.ravel(y1)\n",
    "\n",
    "model = LogisticRegression()\n",
    "model.fit(x1, y1)\n",
    "predicted_classes = model.predict(x1)\n",
    "\n",
    "print(model.intercept_, model.coef_)\n",
    "# print(model.get_params())\n",
    "# print(x)\n",
    "# print(model.predict_proba(x))\n",
    "\n",
    "# and plot the result\n",
    "plt.figure(1, figsize=(8, 6))\n",
    "plt.clf()\n",
    "plt.scatter(x1.ravel(), y1, color='black', zorder=20)\n",
    "X_test = np.linspace(np.min(x), np.max(x), 300)\n",
    "\n",
    "loss_val = expit(model.intercept_ + X_test * model.coef_).ravel()\n",
    "\n",
    "plt.plot(X_test, loss_val, color='red', linewidth=3)\n",
    "\n",
    "print(\"loss: \", loss(model.intercept_, model.coef_, x, y))\n"
   ]
  },
  {
   "cell_type": "markdown",
   "metadata": {},
   "source": [
    "## Comparison\n",
    "The parameter values received from our implementation matches closely with the ones received from sklearn:\n",
    "\n",
    "<table>\n",
    "    <tr>\n",
    "        <td>Parameters</td>\n",
    "        <td>Ours</td>\n",
    "        <td>sklearn</td>\n",
    "    </tr>\n",
    "    <tr>\n",
    "        <td>Theta0</td>\n",
    "        <td>0.77423047</td>\n",
    "        <td>0.77418653</td>\n",
    "    </tr>    \n",
    "    <tr>\n",
    "        <td>Theta1</td>\n",
    "        <td>-1.54650950</td>\n",
    "        <td>-1.54633619</td>\n",
    "    </tr> \n",
    "    <tr>\n",
    "        <td>Loss</td>\n",
    "        <td>0.48508546</td>\n",
    "        <td>0.48508546</td>\n",
    "    </tr> \n",
    "\n",
    "</table>\n"
   ]
  },
  {
   "cell_type": "markdown",
   "metadata": {},
   "source": [
    "# Logistic Regression for multiple features"
   ]
  },
  {
   "cell_type": "code",
   "execution_count": 169,
   "metadata": {},
   "outputs": [
    {
     "name": "stdout",
     "output_type": "stream",
     "text": [
      "(96453, 3)\n",
      "0 [ 0.003281   -0.00661615 -0.00232322] 0.6931471805599301\n",
      "100 [ 0.24900693 -0.50170595 -0.17530695] 0.5539050155597701\n",
      "200 [ 0.39501983 -0.79535873 -0.27777919] 0.5055396244897639\n",
      "300 [ 0.49231177 -0.99061891 -0.34654756] 0.4842647998680378\n",
      "400 [ 0.56202307 -1.13023469 -0.3963067 ] 0.47339896523005875\n",
      "500 [ 0.61429044 -1.2347273  -0.43396444] 0.46730983601493575\n",
      "600 [ 0.65467539 -1.31535154 -0.46329349] 0.46368171502297073\n",
      "700 [ 0.68654228 -1.37890438 -0.48658656] 0.4614254475947469\n",
      "800 [ 0.71207578 -1.42978904 -0.50534636] 0.4599779786062508\n",
      "900 [ 0.7327714  -1.4710121  -0.52061303] 0.4590274577844772\n",
      "1000 [ 0.74969502 -1.50471124 -0.5331363 ] 0.4583919812216999\n",
      "1100 [ 0.76363061 -1.53245539 -0.54347342] 0.45796112572745773\n",
      "1200 [ 0.77516935 -1.55542568 -0.55204853] 0.4576657295604602\n",
      "1300 [ 0.78476612 -1.57452964 -0.55919064] 0.45746138204988873\n",
      "1400 [ 0.79277671 -1.59047637 -0.56515876] 0.4573189881058248\n",
      "1500 [ 0.79948314 -1.60382753 -0.57015938] 0.4572191730709678\n",
      "1600 [ 0.80511147 -1.61503315 -0.57435876] 0.45714886169996055\n",
      "1700 [ 0.80984459 -1.62445714 -0.57789188] 0.4570991322910473\n",
      "1800 [ 0.81383159 -1.63239617 -0.58086912] 0.45706384146529433\n",
      "1900 [ 0.81719483 -1.63909363 -0.58338124] 0.4570387267382884\n",
      "2000 [ 0.82003522 -1.64475032 -0.58550325] 0.4570208118577573\n",
      "2100 [ 0.82243643 -1.64953269 -0.58729741] 0.45700800762288296\n",
      "2200 [ 0.82446805 -1.6535792  -0.58881558] 0.45699884096241844\n",
      "2300 [ 0.82618817 -1.65700547 -0.59010107] 0.4569922693360881\n",
      "2400 [ 0.82764541 -1.65990826 -0.59119017] 0.45698755257455387\n",
      "2500 [ 0.82888056 -1.66236876 -0.59211332] 0.4569841637826848\n",
      "2600 [ 0.82992791 -1.66445524 -0.59289613] 0.45698172704300916\n",
      "2700 [ 0.83081634 -1.66622516 -0.59356017] 0.4569799736446759\n",
      "2800 [ 0.83157018 -1.66772701 -0.59412362] 0.4569787112008605\n",
      "2900 [ 0.83220998 -1.66900171 -0.59460184] 0.45697780178246183\n",
      "2999 [ 0.83274812 -1.67007388 -0.59500407] 0.4569771519379723\n",
      "\n",
      "Theta0: [0.83274812]\n",
      "Theta1: [-1.67007388]\n",
      "Theta2: [-0.59500407]\n",
      "Loss: 0.4569771519379723\n"
     ]
    }
   ],
   "source": [
    "\"\"\"\n",
    "Impelement Logistic Regression for multiple features using vectorization\n",
    "Vectorization makes the calculation much faster\n",
    "\"\"\"\n",
    "# prepare x and y data\n",
    "x, y = prepare_data(df_data, [\"Temperature (C)\", \"Wind Speed (km/h)\"], \"Humidity\")\n",
    "\n",
    "# # reshape to dimension m, 1\n",
    "y = np.array(y)\n",
    "y = y.reshape(-1,1)\n",
    "\n",
    "#add ones to x array - to help with matrix multiplication\n",
    "x = np.c_[np.ones(x.shape[0]),x]\n",
    "print(x.shape)\n",
    "\n",
    "# Here, regularization is set to zero. You can try other values.\n",
    "theta, costs = run_multi_model(x, y, num_iter = 3000, regrate = 0)\n",
    "\n",
    "print()\n",
    "for i, t in enumerate(theta):\n",
    "    print(\"Theta{}: {}\".format(str(i), str(t)))\n",
    "\n",
    "print(\"Loss: {}\".format(str(costs[-1])))"
   ]
  },
  {
   "cell_type": "code",
   "execution_count": 170,
   "metadata": {},
   "outputs": [
    {
     "data": {
      "image/png": "[encoded data removed]",
      "text/plain": [
       "<Figure size 576x432 with 1 Axes>"
      ]
     },
     "metadata": {
      "needs_background": "light"
     },
     "output_type": "display_data"
    }
   ],
   "source": [
    "# plot cost \n",
    "fig_size = plt.rcParams[\"figure.figsize\"]\n",
    "fig_size[0] = 8\n",
    "fig_size[1] = 6\n",
    "plt.rcParams[\"figure.figsize\"] = fig_size\n",
    "plt.show()\n",
    "plt.plot(costs)\n",
    "plt.ylabel('cost')\n",
    "plt.xlabel('iterations')\n",
    "plt.show()"
   ]
  },
  {
   "cell_type": "markdown",
   "metadata": {},
   "source": [
    "# Logistic Regression for multiple features using sklearn"
   ]
  },
  {
   "cell_type": "code",
   "execution_count": 168,
   "metadata": {},
   "outputs": [
    {
     "name": "stdout",
     "output_type": "stream",
     "text": [
      "Slope: [[-1.67595486 -0.59721129]]\n",
      "Intercept: [0.83574723]\n",
      "loss: [[0.45697545]]\n"
     ]
    }
   ],
   "source": [
    "\"\"\"\n",
    "Impelement Logistic Regression for multiple features using sklearn\n",
    "\"\"\"\n",
    "# using sklearn\n",
    "from sklearn.linear_model import LogisticRegression\n",
    "\n",
    "# prepare x and y data\n",
    "x, y = prepare_data(df_data, [\"Temperature (C)\", \"Wind Speed (km/h)\"], \"Humidity\")\n",
    "\n",
    "# normalize data\n",
    "# x = mean_normalize(x)\n",
    "\n",
    "# change y to categories\n",
    "# y = pd.Series(np.where(y.values > 0.7, 1, 0))\n",
    "\n",
    "model = LogisticRegression()\n",
    "model.fit(x, y)\n",
    "# predicted_classes = model.predict(x)\n",
    "\n",
    "print('Slope:' , model.coef_)\n",
    "print('Intercept:', model.intercept_)\n",
    "\n",
    "# create theta array from model parameters\n",
    "a = model.intercept_\n",
    "b = model.coef_\n",
    "b.T.shape\n",
    "a = a.reshape(-1,1)\n",
    "theta_estimated = np.concatenate((a, b.T), axis=0)\n",
    "# print(theta_estimated)\n",
    "\n",
    "# add ones to x to use loss_vector function\n",
    "x = np.c_[np.ones(x.shape[0]),x]\n",
    "print(\"loss:\", loss_vector(theta_estimated, x, y, 0))"
   ]
  },
  {
   "cell_type": "markdown",
   "metadata": {},
   "source": [
    "## Comparison\n",
    "The parameter values received from our implementation matches closely with the ones received from sklearn:\n",
    "\n",
    "<table>\n",
    "    <tr>\n",
    "        <td>Parameters</td>\n",
    "        <td>Ours</td>\n",
    "        <td>sklearn</td>\n",
    "    </tr>\n",
    "    <tr>\n",
    "        <td>Theta0</td>\n",
    "        <td>0.83274812</td>\n",
    "        <td>0.83574723</td>\n",
    "    </tr>    \n",
    "    <tr>\n",
    "        <td>Theta1</td>\n",
    "        <td>-1.67007388</td>\n",
    "        <td>-1.67595486</td>\n",
    "    </tr> \n",
    "    <tr>\n",
    "        <td>Theta2</td>\n",
    "        <td>-0.59500407</td>\n",
    "        <td>-0.59721129</td>\n",
    "    </tr>     \n",
    "    <tr>\n",
    "        <td>Loss</td>\n",
    "        <td>0.45697715</td>\n",
    "        <td>0.45697545</td>\n",
    "    </tr> \n",
    "\n",
    "</table>\n",
    "\n",
    "\n",
    "    "
   ]
  }
 ],
 "metadata": {
  "kernelspec": {
   "display_name": "Python 3",
   "language": "python",
   "name": "python3"
  },
  "language_info": {
   "codemirror_mode": {
    "name": "ipython",
    "version": 3
   },
   "file_extension": ".py",
   "mimetype": "text/x-python",
   "name": "python",
   "nbconvert_exporter": "python",
   "pygments_lexer": "ipython3",
   "version": "3.6.10"
  }
 },
 "nbformat": 4,
 "nbformat_minor": 4
}
